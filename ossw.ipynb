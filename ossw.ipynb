{
 "cells": [
  {
   "cell_type": "code",
   "execution_count": 1,
   "id": "d7307fc0-ef3b-4aba-b468-bd2ca74bbba3",
   "metadata": {},
   "outputs": [],
   "source": [
    "import cv2\n",
    "import numpy as np\n",
    "import os\n",
    "import pandas as pd\n",
    "import torch\n",
    "import torch.nn as nn\n",
    "import torch.nn.functional as F\n",
    "import torch.optim as optim\n",
    "from torchvision import transforms\n",
    "from torch.utils.data import DataLoader, TensorDataset\n",
    "from sklearn.model_selection import train_test_split\n",
    "from sklearn.preprocessing import OneHotEncoder"
   ]
  },
  {
   "cell_type": "code",
   "execution_count": 2,
   "id": "b3868f00-c021-4331-b196-a87aea4c57d7",
   "metadata": {},
   "outputs": [
    {
     "data": {
      "text/plain": [
       "device(type='cuda')"
      ]
     },
     "execution_count": 2,
     "metadata": {},
     "output_type": "execute_result"
    }
   ],
   "source": [
    "device = torch.device(\"cuda\"if torch.cuda.is_available() else \"cpu\")\n",
    "device"
   ]
  },
  {
   "cell_type": "code",
   "execution_count": 3,
   "id": "9e9e42e7-2894-4830-b50f-10a4761de7ca",
   "metadata": {},
   "outputs": [],
   "source": [
    "dataset_root = 'datasets'"
   ]
  },
  {
   "cell_type": "code",
   "execution_count": 4,
   "id": "0fccd17d-e6a7-4f79-8fbd-24d65dbaa2ce",
   "metadata": {},
   "outputs": [],
   "source": [
    "def resize_image(image, size=(32,32)):\n",
    "    return cv2.resize(image, size)"
   ]
  },
  {
   "cell_type": "code",
   "execution_count": 5,
   "id": "dd48ed45-2c28-41e9-85de-d3f0c4da3391",
   "metadata": {},
   "outputs": [],
   "source": [
    "def normalize_image(image):\n",
    "    return image / 255.0"
   ]
  },
  {
   "cell_type": "code",
   "execution_count": 6,
   "id": "742eaabe-37f5-494b-bc65-40523a6ce74c",
   "metadata": {},
   "outputs": [],
   "source": [
    "def one_hot_encode(labels):\n",
    "    encoder = OneHotEncoder(sparse_output=False)\n",
    "    labels = np.array(labels).reshape(-1, 1)\n",
    "    encoder.fit(labels)\n",
    "    return encoder.transform(labels)"
   ]
  },
  {
   "cell_type": "code",
   "execution_count": 7,
   "id": "a5e8211a-dca6-4bcd-ab4c-e7555d6827a4",
   "metadata": {},
   "outputs": [],
   "source": [
    "def load_data(folder):\n",
    "    images = []\n",
    "    labels = []\n",
    "\n",
    "    train_df = pd.read_csv(os.path.join(dataset_root, folder))\n",
    "\n",
    "    for index, row in train_df.iterrows():\n",
    "        image_file = row['Path']\n",
    "        image_path = os.path.join(dataset_root, image_file)\n",
    "        \n",
    "        image = cv2.imread(image_path)\n",
    "        image = resize_image(image)\n",
    "        image = normalize_image(image)\n",
    "        \n",
    "        images.append(image)\n",
    "        labels.append(row['ClassId'])\n",
    "    \n",
    "    images = np.array(images)\n",
    "    labels = np.array(labels)\n",
    "    \n",
    "    labels = one_hot_encode(labels)\n",
    "    \n",
    "    return images, labels"
   ]
  },
  {
   "cell_type": "code",
   "execution_count": 8,
   "id": "91278c7d-5e76-4e57-aaa6-96df83788268",
   "metadata": {},
   "outputs": [],
   "source": [
    "def apply_transforms(images, transform):\n",
    "    res = []\n",
    "    for image in images:\n",
    "        img = transform(image)\n",
    "        res.append(img.numpy())\n",
    "    return np.array(res)"
   ]
  },
  {
   "cell_type": "code",
   "execution_count": 85,
   "id": "69a1d5df-6a28-41b2-a139-a759c4f1c1ed",
   "metadata": {},
   "outputs": [],
   "source": [
    "class CNN(nn.Module):\n",
    "    def __init__(self):\n",
    "        super(CNN, self).__init__()\n",
    "        self.conv1 = nn.Conv2d(3, 32, kernel_size=3, padding=1)\n",
    "        self.conv1_ = nn.Conv2d(32, 32, kernel_size=3, padding=1)\n",
    "\n",
    "        self.bn1 = nn.BatchNorm2d(32)\n",
    "        \n",
    "        self.conv2 = nn.Conv2d(32, 64, kernel_size=3, padding=1)\n",
    "        self.conv2_ = nn.Conv2d(64, 64, kernel_size=3, padding=1)\n",
    "\n",
    "        self.bn2 = nn.BatchNorm2d(64)\n",
    "        \n",
    "        self.conv3 = nn.Conv2d(64, 128, kernel_size=3, padding=1)\n",
    "        self.conv3_ = nn.Conv2d(128, 128, kernel_size=3, padding=1)\n",
    "\n",
    "        self.bn3 = nn.BatchNorm2d(128)\n",
    "\n",
    "        self.conv4 = nn.Conv2d(128, 256, kernel_size=3, padding=1)\n",
    "        self.conv4_ = nn.Conv2d(256, 256, kernel_size=3, padding=1)\n",
    "\n",
    "        self.bn4 = nn.BatchNorm2d(256)\n",
    "        \n",
    "        self.pool = nn.MaxPool2d(2, 2)\n",
    "\n",
    "        self.dropout = nn.Dropout(0.5)\n",
    "\n",
    "        self.activate = F.elu\n",
    "        \n",
    "        self.fc1 = nn.Linear(256 * 2 * 2, 256)\n",
    "        self.fc2 = nn.Linear(256, 43)\n",
    "\n",
    "    def forward(self, x):\n",
    "        x = self.activate(self.bn1(self.conv1(x)))\n",
    "        x = self.activate(self.conv1_(x))\n",
    "        x = self.activate(self.conv1_(x))\n",
    "        x = self.pool(x)\n",
    "        \n",
    "        x = self.activate(self.bn2(self.conv2(x)))\n",
    "        x = self.activate(self.conv2_(x))\n",
    "        x = self.activate(self.conv2_(x))\n",
    "        x = self.pool(x)\n",
    "        \n",
    "        x = self.activate(self.bn3(self.conv3(x)))\n",
    "        x = self.activate(self.conv3_(x))\n",
    "        x = self.activate(self.conv3_(x))\n",
    "        x = self.pool(x)\n",
    "\n",
    "        x = self.activate(self.bn4(self.conv4(x)))\n",
    "        x = self.activate(self.conv4_(x))\n",
    "        x = self.activate(self.conv4_(x))\n",
    "        x = self.pool(x)\n",
    "        \n",
    "        x = x.reshape(-1, 256 * 2 * 2)\n",
    "        x = self.dropout(self.activate(self.fc1(x)))\n",
    "        x = self.fc2(x)\n",
    "        return x"
   ]
  },
  {
   "cell_type": "code",
   "execution_count": 49,
   "id": "cd2806c3-169a-461c-bca0-56b93d0e4046",
   "metadata": {},
   "outputs": [],
   "source": [
    "train_transforms = transforms.Compose([\n",
    "    transforms.ToPILImage(),\n",
    "    transforms.RandomRotation(15),\n",
    "    transforms.RandomResizedCrop(32, scale = (0.7, 1.0)),\n",
    "    transforms.ColorJitter(brightness = 0.3, contrast=0.3, saturation=0.3, hue=0.1),\n",
    "    transforms.ToTensor()\n",
    "])\n",
    "\n",
    "test_transforms = transforms.Compose([\n",
    "    transforms.ToPILImage(),\n",
    "    transforms.ToTensor()\n",
    "])"
   ]
  },
  {
   "cell_type": "code",
   "execution_count": 41,
   "id": "cd761653-8fff-4591-8b5e-eb3869219d4f",
   "metadata": {},
   "outputs": [],
   "source": [
    "images_, labels_ = load_data('Train.csv')\n",
    "test_images, test_labels = load_data('Test.csv')"
   ]
  },
  {
   "cell_type": "code",
   "execution_count": 50,
   "id": "1be318da-a8e2-41ce-bbfc-43b4d4ec2ea2",
   "metadata": {},
   "outputs": [],
   "source": [
    "images = images_.copy()\n",
    "labels = labels_.copy()\n",
    "X_train, X_val, y_train, y_val = train_test_split(images, labels, test_size = 0.2, random_state = 42)"
   ]
  },
  {
   "cell_type": "code",
   "execution_count": 51,
   "id": "8f232003-ec1b-4a22-a122-9b27244c6c0c",
   "metadata": {},
   "outputs": [],
   "source": [
    "X_test = test_images\n",
    "y_test = test_labels\n",
    "\n",
    "X_train = apply_transforms(X_train, train_transforms)\n",
    "X_val = apply_transforms(X_val, test_transforms)\n",
    "X_test = apply_transforms(X_test, test_transforms)\n",
    "\n",
    "X_train = np.array(X_train)\n",
    "X_val = np.array(X_val)\n",
    "X_test = np.array(X_test)"
   ]
  },
  {
   "cell_type": "code",
   "execution_count": 52,
   "id": "15094481-f0fe-40da-8052-fe2fb7ef3417",
   "metadata": {},
   "outputs": [],
   "source": [
    "X_train_tensor = torch.tensor(X_train, dtype=torch.float32).to(device)\n",
    "y_train_tensor = torch.tensor(y_train, dtype=torch.long).to(device)\n",
    "X_val_tensor = torch.tensor(X_val, dtype=torch.float32).to(device)\n",
    "y_val_tensor = torch.tensor(y_val, dtype=torch.long).to(device)\n",
    "X_test_tensor = torch.tensor(X_test, dtype=torch.float32).to(device)\n",
    "y_test_tensor = torch.tensor(y_test, dtype=torch.long).to(device)\n",
    "\n",
    "train_dataset = TensorDataset(X_train_tensor, y_train_tensor)\n",
    "train_loader = DataLoader(train_dataset, batch_size=64, shuffle=True)\n",
    "val_dataset = TensorDataset(X_val_tensor, y_val_tensor)\n",
    "val_loader = DataLoader(val_dataset, batch_size=64, shuffle=False)\n",
    "test_dataset = TensorDataset(X_test_tensor, y_test_tensor)\n",
    "test_loader = DataLoader(test_dataset, batch_size=64, shuffle=False)"
   ]
  },
  {
   "cell_type": "code",
   "execution_count": 92,
   "id": "47988264-2a78-469c-b760-a4bb682614d0",
   "metadata": {},
   "outputs": [
    {
     "name": "stdout",
     "output_type": "stream",
     "text": [
      "Epoch [1/100], Loss: 1.451705462426372\n",
      "Epoch [2/100], Loss: 0.37097874451845947\n",
      "Epoch [3/100], Loss: 0.20488603660825436\n",
      "Epoch [4/100], Loss: 0.14834383197504336\n",
      "Epoch [5/100], Loss: 0.15202699153629073\n",
      "Epoch [6/100], Loss: 0.12700084511018994\n",
      "Epoch [7/100], Loss: 0.11863096592204656\n",
      "Epoch [8/100], Loss: 0.12912651864581082\n",
      "Epoch [9/100], Loss: 0.11383265849365462\n",
      "Epoch [10/100], Loss: 0.08519250854673532\n",
      "Epoch [11/100], Loss: 0.14258542347522113\n",
      "Epoch [12/100], Loss: 0.07976430736300075\n",
      "Epoch [13/100], Loss: 0.09930468574904942\n",
      "Epoch [14/100], Loss: 0.11552304051296439\n",
      "Epoch [15/100], Loss: 0.08619535765006342\n",
      "Epoch [16/100], Loss: 0.09851129396168808\n",
      "Epoch [17/100], Loss: 0.08887642490941945\n",
      "Early Break\n",
      "Validation Accuracy: 0.9937515939811272\n"
     ]
    }
   ],
   "source": [
    "model = CNN().to(device)\n",
    "\n",
    "criterion = nn.CrossEntropyLoss()\n",
    "optimizer = optim.Adam(model.parameters(), lr=0.001)\n",
    "\n",
    "num_epochs = 100\n",
    "\n",
    "best_loss = 99\n",
    "break_num = 5\n",
    "break_counter = 0\n",
    "\n",
    "for epoch in range(num_epochs):\n",
    "    model.train()\n",
    "    running_loss = 0.0\n",
    "    for inputs, labels in train_loader:\n",
    "        optimizer.zero_grad()\n",
    "        #inputs = inputs.permute(0,3,1,2)\n",
    "        outputs = model(inputs)\n",
    "        loss = criterion(outputs, torch.argmax(labels, dim=1))\n",
    "        loss.backward()\n",
    "        optimizer.step()\n",
    "        running_loss += loss.item()\n",
    "    loss = running_loss/len(train_loader)\n",
    "    print(f\"Epoch [{epoch+1}/{num_epochs}], Loss: {loss}\")\n",
    "    if best_loss > loss:\n",
    "        best_loss = loss\n",
    "        break_counter = 0\n",
    "    else:\n",
    "        break_counter += 1\n",
    "        if break_counter == break_num:\n",
    "            print(\"Early Break\")\n",
    "            break;\n",
    "\n",
    "model.eval()\n",
    "correct = 0\n",
    "total = 0\n",
    "with torch.no_grad():\n",
    "    for inputs, labels in val_loader:\n",
    "        #inputs = inputs.permute(0,3,1,2)\n",
    "        outputs = model(inputs)\n",
    "        _, predicted = torch.max(outputs.data, 1)\n",
    "        total += labels.size(0)\n",
    "        correct += (predicted == torch.argmax(labels, dim=1)).sum().item()\n",
    "\n",
    "print(f\"Validation Accuracy: {correct / total}\")"
   ]
  },
  {
   "cell_type": "code",
   "execution_count": 93,
   "id": "4c56165c-93ae-40b3-9a4a-32b50ef63f44",
   "metadata": {},
   "outputs": [
    {
     "name": "stdout",
     "output_type": "stream",
     "text": [
      "Test Accuracy: 0.973396674584323\n"
     ]
    }
   ],
   "source": [
    "model.eval()\n",
    "correct = 0\n",
    "total = 0\n",
    "with torch.no_grad():\n",
    "    for inputs, labels in test_loader:\n",
    "        #inputs = inputs.permute(0,3,1,2)\n",
    "        outputs = model(inputs)\n",
    "        _, predicted = torch.max(outputs.data, 1)\n",
    "        total += labels.size(0)\n",
    "        correct += (predicted == torch.argmax(labels, dim=1)).sum().item()\n",
    "\n",
    "print(f\"Test Accuracy: {correct / total}\")"
   ]
  },
  {
   "cell_type": "code",
   "execution_count": 94,
   "id": "91814afa-8c24-4eba-8d06-108344b2ca5d",
   "metadata": {},
   "outputs": [],
   "source": [
    "torch.save(model, \"CNN_model.pth\")"
   ]
  }
 ],
 "metadata": {
  "kernelspec": {
   "display_name": "Python 3 (ipykernel)",
   "language": "python",
   "name": "python3"
  },
  "language_info": {
   "codemirror_mode": {
    "name": "ipython",
    "version": 3
   },
   "file_extension": ".py",
   "mimetype": "text/x-python",
   "name": "python",
   "nbconvert_exporter": "python",
   "pygments_lexer": "ipython3",
   "version": "3.11.7"
  }
 },
 "nbformat": 4,
 "nbformat_minor": 5
}
