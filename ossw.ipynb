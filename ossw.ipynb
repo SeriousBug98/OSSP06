{
 "cells": [
  {
   "cell_type": "code",
   "execution_count": 1,
   "id": "d7307fc0-ef3b-4aba-b468-bd2ca74bbba3",
   "metadata": {},
   "outputs": [],
   "source": [
    "import cv2\n",
    "import numpy as np\n",
    "import os\n",
    "import pandas as pd\n",
    "import torch\n",
    "import torch.nn as nn\n",
    "import torch.optim as optim\n",
    "from torch.utils.data import DataLoader, TensorDataset\n",
    "from sklearn.model_selection import train_test_split\n",
    "from sklearn.preprocessing import OneHotEncoder"
   ]
  },
  {
   "cell_type": "code",
   "execution_count": 2,
   "id": "b3868f00-c021-4331-b196-a87aea4c57d7",
   "metadata": {},
   "outputs": [
    {
     "data": {
      "text/plain": [
       "device(type='cuda')"
      ]
     },
     "execution_count": 2,
     "metadata": {},
     "output_type": "execute_result"
    }
   ],
   "source": [
    "device = torch.device(\"cuda\" if torch.cuda.is_available() else \"cpu\")\n",
    "device"
   ]
  },
  {
   "cell_type": "code",
   "execution_count": 3,
   "id": "9e9e42e7-2894-4830-b50f-10a4761de7ca",
   "metadata": {},
   "outputs": [],
   "source": [
    "dataset_root = 'datasets'"
   ]
  },
  {
   "cell_type": "code",
   "execution_count": 4,
   "id": "0fccd17d-e6a7-4f79-8fbd-24d65dbaa2ce",
   "metadata": {},
   "outputs": [],
   "source": [
    "def resize_image(image, size=(32,32)):\n",
    "    return cv2.resize(image, size)"
   ]
  },
  {
   "cell_type": "code",
   "execution_count": 5,
   "id": "dd48ed45-2c28-41e9-85de-d3f0c4da3391",
   "metadata": {},
   "outputs": [],
   "source": [
    "def normalize_image(image):\n",
    "    return image / 255.0"
   ]
  },
  {
   "cell_type": "code",
   "execution_count": 6,
   "id": "742eaabe-37f5-494b-bc65-40523a6ce74c",
   "metadata": {},
   "outputs": [],
   "source": [
    "def one_hot_encode(labels):\n",
    "    encoder = OneHotEncoder(sparse_output=False)\n",
    "    labels = np.array(labels).reshape(-1, 1)\n",
    "    encoder.fit(labels)\n",
    "    return encoder.transform(labels)"
   ]
  },
  {
   "cell_type": "code",
   "execution_count": 15,
   "id": "a5e8211a-dca6-4bcd-ab4c-e7555d6827a4",
   "metadata": {},
   "outputs": [],
   "source": [
    "def load_data(folder):\n",
    "    images = []\n",
    "    labels = []\n",
    "\n",
    "    train_df = pd.read_csv(os.path.join(dataset_root, folder))\n",
    "\n",
    "    for index, row in train_df.iterrows():\n",
    "        image_file = row['Path']\n",
    "        image_path = os.path.join(dataset_root, image_file)\n",
    "        \n",
    "        image = cv2.imread(image_path)\n",
    "        image = resize_image(image)\n",
    "        image = normalize_image(image)\n",
    "        \n",
    "        images.append(image)\n",
    "        labels.append(row['ClassId'])\n",
    "    \n",
    "    images = np.array(images)\n",
    "    labels = np.array(labels)\n",
    "    \n",
    "    labels = one_hot_encode(labels)\n",
    "    \n",
    "    return images, labels"
   ]
  },
  {
   "cell_type": "code",
   "execution_count": 19,
   "id": "d7fc580d-e62f-48e8-882d-ebb9d3a46518",
   "metadata": {},
   "outputs": [
    {
     "name": "stdout",
     "output_type": "stream",
     "text": [
      "(39209, 32, 32, 3)\n",
      "(39209, 43)\n"
     ]
    }
   ],
   "source": [
    "images, labels = load_data('Train.csv')\n",
    "\n",
    "print(images.shape)\n",
    "print(labels.shape)"
   ]
  },
  {
   "cell_type": "code",
   "execution_count": 20,
   "id": "8f232003-ec1b-4a22-a122-9b27244c6c0c",
   "metadata": {},
   "outputs": [
    {
     "name": "stdout",
     "output_type": "stream",
     "text": [
      "(12630, 32, 32, 3)\n",
      "(12630, 43)\n"
     ]
    }
   ],
   "source": [
    "test_images, test_labels = load_data('Test.csv')\n",
    "\n",
    "print(test_images.shape)\n",
    "print(test_labels.shape)"
   ]
  },
  {
   "cell_type": "code",
   "execution_count": 23,
   "id": "af1318a4-660d-4277-bcb1-f9bbba17026a",
   "metadata": {},
   "outputs": [],
   "source": [
    "X_train, X_val, y_train, y_val = train_test_split(images, labels, test_size = 0.2, random_state = 42)\n",
    "\n",
    "\n",
    "\n",
    "X_train_tensor = torch.tensor(X_train, dtype=torch.float32).to(device)\n",
    "y_train_tensor = torch.tensor(y_train, dtype=torch.long).to(device)\n",
    "X_val_tensor = torch.tensor(X_val, dtype=torch.float32).to(device)\n",
    "y_val_tensor = torch.tensor(y_val, dtype=torch.long).to(device)\n",
    "X_test_tensor = torch.tensor(test_images, dtype=torch.float32).to(device)\n",
    "y_test_tensor = torch.tensor(test_labels, dtype=torch.long).to(device)\n",
    "\n",
    "train_dataset = TensorDataset(X_train_tensor, y_train_tensor)\n",
    "train_loader = DataLoader(train_dataset, batch_size=64, shuffle=True)\n",
    "val_dataset = TensorDataset(X_val_tensor, y_val_tensor)\n",
    "val_loader = DataLoader(val_dataset, batch_size=64, shuffle=False)\n",
    "test_dataset = TensorDataset(X_test_tensor, y_test_tensor)\n",
    "test_loader = DataLoader(test_dataset, batch_size=64, shuffle=False)\n"
   ]
  },
  {
   "cell_type": "code",
   "execution_count": 24,
   "id": "311c5919-30a1-42fe-8bb8-e38e3bc7cf57",
   "metadata": {},
   "outputs": [],
   "source": [
    "class CNN(nn.Module):\n",
    "    def __init__(self):\n",
    "        super(CNN, self).__init__()\n",
    "        self.conv1 = nn.Conv2d(3, 32, kernel_size=3, padding=1)\n",
    "        self.conv2 = nn.Conv2d(32, 64, kernel_size=3, padding=1)\n",
    "        self.conv3 = nn.Conv2d(64, 128, kernel_size=3, padding=1)\n",
    "        self.pool = nn.MaxPool2d(2, 2)\n",
    "        self.fc1 = nn.Linear(128 * 4 * 4, 128)\n",
    "        self.fc2 = nn.Linear(128, 43)\n",
    "\n",
    "    def forward(self, x):\n",
    "        x = self.pool(torch.relu(self.conv1(x)))\n",
    "        x = self.pool(torch.relu(self.conv2(x)))\n",
    "        x = self.pool(torch.relu(self.conv3(x)))\n",
    "        x = x.reshape(-1, 128 * 4 * 4)\n",
    "        x = torch.relu(self.fc1(x))\n",
    "        x = self.fc2(x)\n",
    "        return x"
   ]
  },
  {
   "cell_type": "code",
   "execution_count": 27,
   "id": "47988264-2a78-469c-b760-a4bb682614d0",
   "metadata": {},
   "outputs": [
    {
     "name": "stdout",
     "output_type": "stream",
     "text": [
      "Epoch [1/100], Loss: 1.9993639249058701\n",
      "Epoch [2/100], Loss: 0.40622211727190405\n",
      "Epoch [3/100], Loss: 0.15092717932419597\n",
      "Epoch [4/100], Loss: 0.08763488618061402\n",
      "Epoch [5/100], Loss: 0.049753508090502496\n",
      "Epoch [6/100], Loss: 0.048499067420426326\n",
      "Epoch [7/100], Loss: 0.031169001180432025\n",
      "Epoch [8/100], Loss: 0.02300630310803316\n",
      "Epoch [9/100], Loss: 0.02164749920133408\n",
      "Epoch [10/100], Loss: 0.027598727248873904\n",
      "Epoch [11/100], Loss: 0.014113223933718047\n",
      "Epoch [12/100], Loss: 0.017942870086069467\n",
      "Epoch [13/100], Loss: 0.016626567799655358\n",
      "Epoch [14/100], Loss: 0.012516138163912477\n",
      "Epoch [15/100], Loss: 0.001166876990053854\n",
      "Epoch [16/100], Loss: 0.000307378234700502\n",
      "Epoch [17/100], Loss: 0.033619004943893055\n",
      "Epoch [18/100], Loss: 0.017150483663073434\n",
      "Epoch [19/100], Loss: 0.00899309562340278\n",
      "Epoch [20/100], Loss: 0.014467404398549637\n",
      "Epoch [21/100], Loss: 0.019687804872371113\n",
      "Epoch [22/100], Loss: 0.008352749909513912\n",
      "Epoch [23/100], Loss: 0.006716178407711546\n",
      "Epoch [24/100], Loss: 0.013054402975636733\n",
      "Epoch [25/100], Loss: 0.006646574703751243\n",
      "Epoch [26/100], Loss: 0.01706777300910984\n",
      "Epoch [27/100], Loss: 0.00164140167131909\n",
      "Epoch [28/100], Loss: 0.000408987988782524\n",
      "Epoch [29/100], Loss: 3.296905603451265e-05\n",
      "Epoch [30/100], Loss: 1.5450321139411412e-05\n",
      "Epoch [31/100], Loss: 1.1498605944683238e-05\n",
      "Epoch [32/100], Loss: 8.869021516179142e-06\n",
      "Epoch [33/100], Loss: 7.085291427196155e-06\n",
      "Epoch [34/100], Loss: 5.703239212169004e-06\n",
      "Epoch [35/100], Loss: 4.541715867214475e-06\n",
      "Epoch [36/100], Loss: 3.6845136525016786e-06\n",
      "Epoch [37/100], Loss: 2.9467127754749224e-06\n",
      "Epoch [38/100], Loss: 2.3498838423089546e-06\n",
      "Epoch [39/100], Loss: 1.909980302223743e-06\n",
      "Epoch [40/100], Loss: 1.5505842085707182e-06\n",
      "Epoch [41/100], Loss: 1.189912621245482e-06\n",
      "Epoch [42/100], Loss: 9.681274328910472e-07\n",
      "Epoch [43/100], Loss: 7.764138939059341e-07\n",
      "Epoch [44/100], Loss: 6.548889726741792e-07\n",
      "Epoch [45/100], Loss: 4.792635099379525e-07\n",
      "Epoch [46/100], Loss: 3.740349560848456e-07\n",
      "Epoch [47/100], Loss: 2.9423266549495326e-07\n",
      "Epoch [48/100], Loss: 2.32885118923831e-07\n",
      "Epoch [49/100], Loss: 1.813196358341874e-07\n",
      "Epoch [50/100], Loss: 1.535358807405723e-07\n",
      "Epoch [51/100], Loss: 0.04279564863290779\n",
      "Epoch [52/100], Loss: 0.015865138629939\n",
      "Epoch [53/100], Loss: 0.0029168813872384636\n",
      "Epoch [54/100], Loss: 0.0035752853752243755\n",
      "Epoch [55/100], Loss: 0.0031869085069476796\n",
      "Epoch [56/100], Loss: 0.014028055725209109\n",
      "Epoch [57/100], Loss: 0.0030163415854404948\n",
      "Epoch [58/100], Loss: 0.002823362571377588\n",
      "Epoch [59/100], Loss: 0.009004044510729801\n",
      "Epoch [60/100], Loss: 0.01393024358912386\n",
      "Epoch [61/100], Loss: 0.00827242205999135\n",
      "Epoch [62/100], Loss: 0.002511352884941895\n",
      "Epoch [63/100], Loss: 0.004003172040260941\n",
      "Epoch [64/100], Loss: 0.004994256839195814\n",
      "Epoch [65/100], Loss: 0.0072151985309503175\n",
      "Epoch [66/100], Loss: 0.00938922230356731\n",
      "Epoch [67/100], Loss: 0.0035317480806638085\n",
      "Epoch [68/100], Loss: 0.0016193676997514573\n",
      "Epoch [69/100], Loss: 0.008829896732214328\n",
      "Epoch [70/100], Loss: 0.01549524684116411\n",
      "Epoch [71/100], Loss: 0.0008208734024421836\n",
      "Epoch [72/100], Loss: 0.006781302923260815\n",
      "Epoch [73/100], Loss: 0.0037311709400694847\n",
      "Epoch [74/100], Loss: 0.0004336973633809191\n",
      "Epoch [75/100], Loss: 0.002609559329102208\n",
      "Epoch [76/100], Loss: 0.017091141465903233\n",
      "Epoch [77/100], Loss: 0.0039387772238865205\n",
      "Epoch [78/100], Loss: 0.004222810724700373\n",
      "Epoch [79/100], Loss: 0.003360432935025045\n",
      "Epoch [80/100], Loss: 0.010814012315979567\n",
      "Epoch [81/100], Loss: 0.0032618515199106133\n",
      "Epoch [82/100], Loss: 0.0004486627424277321\n",
      "Epoch [83/100], Loss: 0.0038932137359042455\n",
      "Epoch [84/100], Loss: 0.012255702188510104\n",
      "Epoch [85/100], Loss: 0.0082846039542299\n",
      "Epoch [86/100], Loss: 0.003268963530592638\n",
      "Epoch [87/100], Loss: 0.0012820147283574366\n",
      "Epoch [88/100], Loss: 0.00650046922770537\n",
      "Epoch [89/100], Loss: 0.0036110803814187473\n",
      "Epoch [90/100], Loss: 0.00714203317857819\n",
      "Epoch [91/100], Loss: 0.007486099600792375\n",
      "Epoch [92/100], Loss: 0.0006448923230305715\n",
      "Epoch [93/100], Loss: 0.0032685031438351273\n",
      "Epoch [94/100], Loss: 0.0028507297661659356\n",
      "Epoch [95/100], Loss: 0.017311770666510094\n",
      "Epoch [96/100], Loss: 0.003188695576015646\n",
      "Epoch [97/100], Loss: 0.002013849672222951\n",
      "Epoch [98/100], Loss: 3.0278288731312802e-05\n",
      "Epoch [99/100], Loss: 3.932819712104482e-06\n",
      "Epoch [100/100], Loss: 2.312509912307233e-06\n",
      "Validation Accuracy: 0.994899260392757\n"
     ]
    }
   ],
   "source": [
    "model = CNN().to(device)\n",
    "\n",
    "criterion = nn.CrossEntropyLoss()\n",
    "optimizer = optim.Adam(model.parameters(), lr=0.001)\n",
    "\n",
    "num_epochs = 100\n",
    "for epoch in range(num_epochs):\n",
    "    model.train()\n",
    "    running_loss = 0.0\n",
    "    for inputs, labels in train_loader:\n",
    "        optimizer.zero_grad()\n",
    "        inputs = inputs.permute(0,3,1,2)\n",
    "        outputs = model(inputs)\n",
    "        loss = criterion(outputs, torch.argmax(labels, dim=1))\n",
    "        loss.backward()\n",
    "        optimizer.step()\n",
    "        running_loss += loss.item()\n",
    "    print(f\"Epoch [{epoch+1}/{num_epochs}], Loss: {running_loss / len(train_loader)}\")\n",
    "\n",
    "model.eval()\n",
    "correct = 0\n",
    "total = 0\n",
    "with torch.no_grad():\n",
    "    for inputs, labels in val_loader:\n",
    "        inputs = inputs.permute(0,3,1,2)\n",
    "        outputs = model(inputs)\n",
    "        _, predicted = torch.max(outputs.data, 1)\n",
    "        total += labels.size(0)\n",
    "        correct += (predicted == torch.argmax(labels, dim=1)).sum().item()\n",
    "\n",
    "print(f\"Validation Accuracy: {correct / total}\")"
   ]
  },
  {
   "cell_type": "code",
   "execution_count": 28,
   "id": "4c56165c-93ae-40b3-9a4a-32b50ef63f44",
   "metadata": {},
   "outputs": [
    {
     "name": "stdout",
     "output_type": "stream",
     "text": [
      "Validation Accuracy: 0.952652414885194\n"
     ]
    }
   ],
   "source": [
    "model.eval()\n",
    "correct = 0\n",
    "total = 0\n",
    "with torch.no_grad():\n",
    "    for inputs, labels in test_loader:\n",
    "        inputs = inputs.permute(0,3,1,2)\n",
    "        outputs = model(inputs)\n",
    "        _, predicted = torch.max(outputs.data, 1)\n",
    "        total += labels.size(0)\n",
    "        correct += (predicted == torch.argmax(labels, dim=1)).sum().item()\n",
    "\n",
    "print(f\"Validation Accuracy: {correct / total}\")"
   ]
  },
  {
   "cell_type": "code",
   "execution_count": null,
   "id": "0cf73aa3-48a6-4fd5-93f9-c07e55f681c1",
   "metadata": {},
   "outputs": [],
   "source": []
  }
 ],
 "metadata": {
  "kernelspec": {
   "display_name": "Python 3 (ipykernel)",
   "language": "python",
   "name": "python3"
  },
  "language_info": {
   "codemirror_mode": {
    "name": "ipython",
    "version": 3
   },
   "file_extension": ".py",
   "mimetype": "text/x-python",
   "name": "python",
   "nbconvert_exporter": "python",
   "pygments_lexer": "ipython3",
   "version": "3.11.7"
  }
 },
 "nbformat": 4,
 "nbformat_minor": 5
}
