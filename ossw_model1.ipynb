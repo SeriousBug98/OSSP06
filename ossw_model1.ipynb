{
  "cells": [
    {
      "cell_type": "code",
      "execution_count": 1,
      "id": "d7307fc0-ef3b-4aba-b468-bd2ca74bbba3",
      "metadata": {
        "id": "d7307fc0-ef3b-4aba-b468-bd2ca74bbba3"
      },
      "outputs": [],
      "source": [
        "import cv2\n",
        "import numpy as np\n",
        "import os\n",
        "import pandas as pd\n",
        "import torch\n",
        "import torch.nn as nn\n",
        "import torch.optim as optim\n",
        "import torchvision.models as models\n",
        "import matplotlib.pyplot as plt\n",
        "from torch.utils.data import DataLoader, TensorDataset\n",
        "from sklearn.model_selection import train_test_split\n",
        "from sklearn.preprocessing import OneHotEncoder\n",
        "from google.colab import files"
      ]
    },
    {
      "cell_type": "code",
      "source": [
        "!kaggle datasets download -d meowmeowmeowmeowmeow/gtsrb-german-traffic-sign"
      ],
      "metadata": {
        "colab": {
          "base_uri": "https://localhost:8080/"
        },
        "id": "vd6NfC99btej",
        "outputId": "b88a6a99-632d-4db1-a5e4-195e4c11151e"
      },
      "id": "vd6NfC99btej",
      "execution_count": 2,
      "outputs": [
        {
          "output_type": "stream",
          "name": "stdout",
          "text": [
            "Dataset URL: https://www.kaggle.com/datasets/meowmeowmeowmeowmeow/gtsrb-german-traffic-sign\n",
            "License(s): CC0-1.0\n",
            "Downloading gtsrb-german-traffic-sign.zip to /content\n",
            " 98% 602M/612M [00:07<00:00, 85.2MB/s]\n",
            "100% 612M/612M [00:07<00:00, 89.1MB/s]\n"
          ]
        }
      ]
    },
    {
      "cell_type": "code",
      "source": [
        "!unzip -qq gtsrb-german-traffic-sign.zip"
      ],
      "metadata": {
        "id": "YryBOmiXb8UD"
      },
      "id": "YryBOmiXb8UD",
      "execution_count": 3,
      "outputs": []
    },
    {
      "cell_type": "code",
      "execution_count": 4,
      "id": "b3868f00-c021-4331-b196-a87aea4c57d7",
      "metadata": {
        "colab": {
          "base_uri": "https://localhost:8080/"
        },
        "id": "b3868f00-c021-4331-b196-a87aea4c57d7",
        "outputId": "d56211de-f139-4a52-e311-92f0469dfe21"
      },
      "outputs": [
        {
          "output_type": "execute_result",
          "data": {
            "text/plain": [
              "device(type='cuda')"
            ]
          },
          "metadata": {},
          "execution_count": 4
        }
      ],
      "source": [
        "device = torch.device(\"cuda\" if torch.cuda.is_available() else \"cpu\")\n",
        "device"
      ]
    },
    {
      "cell_type": "code",
      "execution_count": 5,
      "id": "9e9e42e7-2894-4830-b50f-10a4761de7ca",
      "metadata": {
        "id": "9e9e42e7-2894-4830-b50f-10a4761de7ca"
      },
      "outputs": [],
      "source": [
        "dataset_root = \"/content\"\n",
        "r_size = (32,32)"
      ]
    },
    {
      "cell_type": "code",
      "execution_count": 6,
      "id": "0fccd17d-e6a7-4f79-8fbd-24d65dbaa2ce",
      "metadata": {
        "id": "0fccd17d-e6a7-4f79-8fbd-24d65dbaa2ce"
      },
      "outputs": [],
      "source": [
        "def resize_image(image, size=(32,32)):\n",
        "    return cv2.resize(image, size)"
      ]
    },
    {
      "cell_type": "code",
      "execution_count": 7,
      "id": "dd48ed45-2c28-41e9-85de-d3f0c4da3391",
      "metadata": {
        "id": "dd48ed45-2c28-41e9-85de-d3f0c4da3391"
      },
      "outputs": [],
      "source": [
        "def normalize_image(image):\n",
        "    return image / 255.0"
      ]
    },
    {
      "cell_type": "code",
      "execution_count": 8,
      "id": "742eaabe-37f5-494b-bc65-40523a6ce74c",
      "metadata": {
        "id": "742eaabe-37f5-494b-bc65-40523a6ce74c"
      },
      "outputs": [],
      "source": [
        "def one_hot_encode(labels):\n",
        "    encoder = OneHotEncoder(sparse_output=False)\n",
        "    labels = np.array(labels).reshape(-1, 1)\n",
        "    encoder.fit(labels)\n",
        "    return encoder.transform(labels)"
      ]
    },
    {
      "cell_type": "code",
      "execution_count": 9,
      "id": "a5e8211a-dca6-4bcd-ab4c-e7555d6827a4",
      "metadata": {
        "id": "a5e8211a-dca6-4bcd-ab4c-e7555d6827a4"
      },
      "outputs": [],
      "source": [
        "def load_data(folder):\n",
        "    images = []\n",
        "    labels = []\n",
        "\n",
        "    train_df = pd.read_csv(os.path.join(dataset_root, folder))\n",
        "\n",
        "    for index, row in train_df.iterrows():\n",
        "        image_file = row['Path']\n",
        "        image_path = os.path.join(dataset_root, image_file)\n",
        "\n",
        "        image = cv2.imread(image_path)\n",
        "        image = resize_image(image)\n",
        "        image = normalize_image(image)\n",
        "\n",
        "        images.append(image)\n",
        "        labels.append(row['ClassId'])\n",
        "\n",
        "    images = np.array(images)\n",
        "    labels = np.array(labels)\n",
        "\n",
        "    labels = one_hot_encode(labels)\n",
        "\n",
        "    return images, labels"
      ]
    },
    {
      "cell_type": "code",
      "execution_count": 10,
      "id": "d7fc580d-e62f-48e8-882d-ebb9d3a46518",
      "metadata": {
        "colab": {
          "base_uri": "https://localhost:8080/"
        },
        "id": "d7fc580d-e62f-48e8-882d-ebb9d3a46518",
        "outputId": "02537411-6d3a-4ce1-d6e7-0f0d45a9f71c"
      },
      "outputs": [
        {
          "output_type": "stream",
          "name": "stdout",
          "text": [
            "(39209, 32, 32, 3)\n",
            "(39209, 43)\n"
          ]
        }
      ],
      "source": [
        "images, labels = load_data(\"Train.csv\")\n",
        "\n",
        "print(images.shape)\n",
        "print(labels.shape)"
      ]
    },
    {
      "cell_type": "code",
      "execution_count": 11,
      "id": "8f232003-ec1b-4a22-a122-9b27244c6c0c",
      "metadata": {
        "colab": {
          "base_uri": "https://localhost:8080/"
        },
        "id": "8f232003-ec1b-4a22-a122-9b27244c6c0c",
        "outputId": "fbf03252-3d87-432c-cb98-25a773babcb1"
      },
      "outputs": [
        {
          "output_type": "stream",
          "name": "stdout",
          "text": [
            "(12630, 32, 32, 3)\n",
            "(12630, 43)\n"
          ]
        }
      ],
      "source": [
        "test_images, test_labels = load_data('Test.csv')\n",
        "\n",
        "print(test_images.shape)\n",
        "print(test_labels.shape)"
      ]
    },
    {
      "cell_type": "code",
      "execution_count": 12,
      "id": "af1318a4-660d-4277-bcb1-f9bbba17026a",
      "metadata": {
        "id": "af1318a4-660d-4277-bcb1-f9bbba17026a"
      },
      "outputs": [],
      "source": [
        "X_train, X_val, y_train, y_val = train_test_split(images, labels, test_size = 0.2, random_state = 42)\n",
        "\n",
        "\n",
        "\n",
        "X_train_tensor = torch.tensor(X_train, dtype=torch.float32).to(device)\n",
        "y_train_tensor = torch.tensor(y_train, dtype=torch.long).to(device)\n",
        "X_val_tensor = torch.tensor(X_val, dtype=torch.float32).to(device)\n",
        "y_val_tensor = torch.tensor(y_val, dtype=torch.long).to(device)\n",
        "X_test_tensor = torch.tensor(test_images, dtype=torch.float32).to(device)\n",
        "y_test_tensor = torch.tensor(test_labels, dtype=torch.long).to(device)\n",
        "\n",
        "train_dataset = TensorDataset(X_train_tensor, y_train_tensor)\n",
        "train_loader = DataLoader(train_dataset, batch_size=64, shuffle=True)\n",
        "val_dataset = TensorDataset(X_val_tensor, y_val_tensor)\n",
        "val_loader = DataLoader(val_dataset, batch_size=64, shuffle=False)\n",
        "test_dataset = TensorDataset(X_test_tensor, y_test_tensor)\n",
        "test_loader = DataLoader(test_dataset, batch_size=64, shuffle=False)\n"
      ]
    },
    {
      "cell_type": "code",
      "execution_count": 17,
      "id": "311c5919-30a1-42fe-8bb8-e38e3bc7cf57",
      "metadata": {
        "id": "311c5919-30a1-42fe-8bb8-e38e3bc7cf57"
      },
      "outputs": [],
      "source": [
        "class CNN(nn.Module):\n",
        "    def __init__(self):\n",
        "        super(CNN, self).__init__()\n",
        "        self.conv1 = nn.Conv2d(3, 32, kernel_size=3, padding=1)\n",
        "        self.bn1 = nn.BatchNorm2d(32)\n",
        "        self.conv2 = nn.Conv2d(32, 64, kernel_size=3, padding=1)\n",
        "        self.bn2 = nn.BatchNorm2d(64)\n",
        "        self.conv3 = nn.Conv2d(64, 128, kernel_size=3, padding=1)\n",
        "        self.bn3 = nn.BatchNorm2d(128)\n",
        "        self.pool = nn.MaxPool2d(2, 2)\n",
        "        self.dropout = nn.Dropout(0.3)\n",
        "        self.fc1 = nn.Linear(128 * 4 * 4, 128)\n",
        "        self.fc2 = nn.Linear(128, 43)\n",
        "\n",
        "    def forward(self, x):\n",
        "        x = self.pool(torch.relu(self.bn1(self.conv1(x))))\n",
        "        x = self.dropout(x)\n",
        "        x = self.pool(torch.relu(self.bn2(self.conv2(x))))\n",
        "        x = self.dropout(x)\n",
        "        x = self.pool(torch.relu(self.bn3(self.conv3(x))))\n",
        "        x = self.dropout(x)\n",
        "        x = x.reshape(-1, 128 * 4 * 4)\n",
        "        x = torch.relu(self.fc1(x))\n",
        "        x = self.fc2(x)\n",
        "        return x"
      ]
    },
    {
      "cell_type": "code",
      "source": [
        "class EarlyStopping:\n",
        "    def __init__(self, patience=3, delta=0.0, mode='min', verbose=True):\n",
        "        \"\"\"\n",
        "        patience (int): loss or score가 개선된 후 기다리는 기간. default: 3\n",
        "        delta  (float): 개선시 인정되는 최소 변화 수치. default: 0.0\n",
        "        mode     (str): 개선시 최소/최대값 기준 선정('min' or 'max'). default: 'min'.\n",
        "        verbose (bool): 메시지 출력. default: True\n",
        "        \"\"\"\n",
        "        self.early_stop = False\n",
        "        self.patience = patience\n",
        "        self.verbose = verbose\n",
        "        self.counter = 0\n",
        "\n",
        "        self.best_score = np.Inf if mode == 'min' else 0\n",
        "        self.mode = mode\n",
        "        self.delta = delta\n",
        "\n",
        "    def __call__(self, score):\n",
        "        if self.best_score is None:\n",
        "            self.best_score = score\n",
        "            self.counter = 0\n",
        "        elif self.mode == 'min':\n",
        "            if score < (self.best_score - self.delta):\n",
        "                self.counter = 0\n",
        "                self.best_score = score\n",
        "                if self.verbose:\n",
        "                    print(f'[EarlyStopping] (Update) Best Score: {self.best_score:.5f}')\n",
        "            else:\n",
        "                self.counter += 1\n",
        "                if self.verbose:\n",
        "                    print(f'[EarlyStopping] (Patience) {self.counter}/{self.patience}, ' \\\n",
        "                          f'Best: {self.best_score:.5f}' \\\n",
        "                          f', Current: {score:.5f}, Delta: {np.abs(self.best_score - score):.5f}')\n",
        "\n",
        "        elif self.mode == 'max':\n",
        "            if score > (self.best_score + self.delta):\n",
        "                self.counter = 0\n",
        "                self.best_score = score\n",
        "                if self.verbose:\n",
        "                    print(f'[EarlyStopping] (Update) Best Score: {self.best_score:.5f}')\n",
        "            else:\n",
        "                self.counter += 1\n",
        "                if self.verbose:\n",
        "                    print(f'[EarlyStopping] (Patience) {self.counter}/{self.patience}, ' \\\n",
        "                          f'Best: {self.best_score:.5f}' \\\n",
        "                          f', Current: {score:.5f}, Delta: {np.abs(self.best_score - score):.5f}')\n",
        "\n",
        "\n",
        "        if self.counter >= self.patience:\n",
        "            if self.verbose:\n",
        "                print(f'[EarlyStop Triggered] Best Score: {self.best_score:.5f}')\n",
        "            # Early Stop\n",
        "            self.early_stop = True\n",
        "        else:\n",
        "            # Continue\n",
        "            self.early_stop = False"
      ],
      "metadata": {
        "id": "rkX_a2aCD_MQ"
      },
      "id": "rkX_a2aCD_MQ",
      "execution_count": 14,
      "outputs": []
    },
    {
      "cell_type": "code",
      "source": [
        "class FocalLoss(nn.Module):\n",
        "    def __init__(self, alpha=1, gamma=2, reduction='mean'):\n",
        "        super(FocalLoss, self).__init__()\n",
        "        self.alpha = alpha\n",
        "        self.gamma = gamma\n",
        "        self.reduction = reduction\n",
        "\n",
        "    def forward(self, inputs, targets):\n",
        "        BCE_loss = F.cross_entropy(inputs, targets, reduction='none')\n",
        "        pt = torch.exp(-BCE_loss)\n",
        "        F_loss = self.alpha * (1-pt)**self.gamma * BCE_loss\n",
        "\n",
        "        if self.reduction == 'mean':\n",
        "            return torch.mean(F_loss)\n",
        "        elif self.reduction == 'sum':\n",
        "            return torch.sum(F_loss)\n",
        "        else:\n",
        "            return F_loss"
      ],
      "metadata": {
        "id": "FI2wrIPFGLim"
      },
      "id": "FI2wrIPFGLim",
      "execution_count": 38,
      "outputs": []
    },
    {
      "cell_type": "code",
      "execution_count": 57,
      "id": "0cf73aa3-48a6-4fd5-93f9-c07e55f681c1",
      "metadata": {
        "colab": {
          "base_uri": "https://localhost:8080/",
          "height": 842
        },
        "id": "0cf73aa3-48a6-4fd5-93f9-c07e55f681c1",
        "outputId": "50a7e083-0e01-47c6-fa10-513637cee4a1"
      },
      "outputs": [
        {
          "output_type": "stream",
          "name": "stdout",
          "text": [
            "Epoch 1/50, Loss: 1.2371, Validation Accuracy: 0.8249\n",
            "[EarlyStopping] (Update) Best Score: 0.82492\n",
            "Epoch 2/50, Loss: 0.2812, Validation Accuracy: 0.9485\n",
            "[EarlyStopping] (Update) Best Score: 0.94848\n",
            "Epoch 3/50, Loss: 0.1472, Validation Accuracy: 0.9700\n",
            "[EarlyStopping] (Update) Best Score: 0.97003\n",
            "Epoch 4/50, Loss: 0.1060, Validation Accuracy: 0.9843\n",
            "[EarlyStopping] (Update) Best Score: 0.98432\n",
            "Epoch 5/50, Loss: 0.0816, Validation Accuracy: 0.9843\n",
            "[EarlyStopping] (Patience) 1/3, Best: 0.98432, Current: 0.98432, Delta: 0.00000\n",
            "Epoch 6/50, Loss: 0.0666, Validation Accuracy: 0.9893\n",
            "[EarlyStopping] (Update) Best Score: 0.98929\n",
            "Epoch 7/50, Loss: 0.0557, Validation Accuracy: 0.9899\n",
            "[EarlyStopping] (Patience) 1/3, Best: 0.98929, Current: 0.98993, Delta: 0.00064\n",
            "Epoch 8/50, Loss: 0.0502, Validation Accuracy: 0.9874\n",
            "[EarlyStopping] (Patience) 2/3, Best: 0.98929, Current: 0.98738, Delta: 0.00191\n",
            "Epoch 9/50, Loss: 0.0486, Validation Accuracy: 0.9936\n",
            "[EarlyStopping] (Update) Best Score: 0.99362\n",
            "Epoch 10/50, Loss: 0.0443, Validation Accuracy: 0.9930\n",
            "[EarlyStopping] (Patience) 1/3, Best: 0.99362, Current: 0.99299, Delta: 0.00064\n",
            "Epoch 11/50, Loss: 0.0388, Validation Accuracy: 0.9892\n",
            "[EarlyStopping] (Patience) 2/3, Best: 0.99362, Current: 0.98916, Delta: 0.00446\n",
            "Epoch 12/50, Loss: 0.0381, Validation Accuracy: 0.9923\n",
            "[EarlyStopping] (Patience) 3/3, Best: 0.99362, Current: 0.99235, Delta: 0.00128\n",
            "[EarlyStop Triggered] Best Score: 0.99362\n",
            "Early stopping\n",
            "Validation Accuracy: 0.9923488905891354\n"
          ]
        },
        {
          "output_type": "display_data",
          "data": {
            "text/plain": [
              "<Figure size 1200x500 with 2 Axes>"
            ],
            "image/png": "[encoded data removed]"
          },
          "metadata": {}
        }
      ],
      "source": [
        "model = CNN().to(device)\n",
        "\n",
        "criterion = FocalLoss()\n",
        "optimizer = optim.Adam(model.parameters(), lr=0.001)\n",
        "\n",
        "# 얼리 스톰 추가\n",
        "early_stopping = EarlyStopping(patience=3, delta=0.001, mode='max', verbose=True)\n",
        "\n",
        "num_epochs = 50\n",
        "train_losses = []\n",
        "val_accuracies = []\n",
        "\n",
        "for epoch in range(num_epochs):\n",
        "    model.train()\n",
        "    running_loss = 0.0\n",
        "    for inputs, labels in train_loader:\n",
        "        optimizer.zero_grad()\n",
        "        inputs = inputs.permute(0, 3, 1, 2).to(device)\n",
        "        labels = labels.to(device)\n",
        "        outputs = model(inputs)\n",
        "        loss = criterion(outputs, torch.argmax(labels, dim=1))\n",
        "        loss.backward()\n",
        "        optimizer.step()\n",
        "        running_loss += loss.item()\n",
        "\n",
        "    epoch_loss = running_loss / len(train_loader)\n",
        "    train_losses.append(epoch_loss)\n",
        "\n",
        "    model.eval()\n",
        "    correct = 0\n",
        "    total = 0\n",
        "    with torch.no_grad():\n",
        "        for inputs, labels in val_loader:\n",
        "            inputs = inputs.permute(0, 3, 1, 2).to(device)\n",
        "            labels = labels.to(device)\n",
        "            outputs = model(inputs)\n",
        "            _, predicted = torch.max(outputs.data, 1)\n",
        "            total += labels.size(0)\n",
        "            correct += (predicted == torch.argmax(labels, dim=1)).sum().item()\n",
        "\n",
        "    val_accuracy = correct / total\n",
        "    val_accuracies.append(val_accuracy)\n",
        "\n",
        "    print(f'Epoch {epoch+1}/{num_epochs}, Loss: {epoch_loss:.4f}, Validation Accuracy: {val_accuracy:.4f}')\n",
        "\n",
        "    # EarlyStopping 호출\n",
        "    early_stopping(val_accuracy)\n",
        "\n",
        "    if early_stopping.early_stop:\n",
        "        print(\"Early stopping\")\n",
        "        break\n",
        "\n",
        "print(f\"Validation Accuracy: {correct / total}\")\n",
        "\n",
        "# Plotting the results\n",
        "plt.figure(figsize=(12, 5))\n",
        "\n",
        "# Plot training loss\n",
        "plt.subplot(1, 2, 1)\n",
        "plt.plot(range(1, len(train_losses) + 1), train_losses, label='Training Loss')\n",
        "plt.xlabel('Epoch')\n",
        "plt.ylabel('Loss')\n",
        "plt.title('Training Loss vs Epochs')\n",
        "plt.legend()\n",
        "\n",
        "# Plot validation accuracy\n",
        "plt.subplot(1, 2, 2)\n",
        "plt.plot(range(1, len(val_accuracies) + 1), val_accuracies, label='Validation Accuracy', color='orange')\n",
        "plt.xlabel('Epoch')\n",
        "plt.ylabel('Accuracy')\n",
        "plt.title('Validation Accuracy vs Epochs')\n",
        "plt.legend()\n",
        "\n",
        "plt.show()\n"
      ]
    },
    {
      "cell_type": "code",
      "source": [
        "model.eval()\n",
        "correct = 0\n",
        "total = 0\n",
        "with torch.no_grad():\n",
        "    for inputs, labels in test_loader:\n",
        "        inputs = inputs.permute(0,3,1,2)\n",
        "        outputs = model(inputs)\n",
        "        _, predicted = torch.max(outputs.data, 1)\n",
        "        total += labels.size(0)\n",
        "        correct += (predicted == torch.argmax(labels, dim=1)).sum().item()\n",
        "\n",
        "print(f\"Test Accuracy: {correct / total}\")"
      ],
      "metadata": {
        "id": "NhxGGHITCLMY",
        "colab": {
          "base_uri": "https://localhost:8080/"
        },
        "outputId": "7bc65d4f-14bc-44dd-8efb-cac358d94db3"
      },
      "id": "NhxGGHITCLMY",
      "execution_count": 58,
      "outputs": [
        {
          "output_type": "stream",
          "name": "stdout",
          "text": [
            "Test Accuracy: 0.9505146476642914\n"
          ]
        }
      ]
    },
    {
      "cell_type": "code",
      "source": [],
      "metadata": {
        "id": "Mm_oImKF7jCP"
      },
      "id": "Mm_oImKF7jCP",
      "execution_count": 32,
      "outputs": []
    }
  ],
  "metadata": {
    "kernelspec": {
      "display_name": "Python 3",
      "name": "python3"
    },
    "language_info": {
      "codemirror_mode": {
        "name": "ipython",
        "version": 3
      },
      "file_extension": ".py",
      "mimetype": "text/x-python",
      "name": "python",
      "nbconvert_exporter": "python",
      "pygments_lexer": "ipython3",
      "version": "3.11.7"
    },
    "colab": {
      "provenance": [],
      "gpuType": "T4"
    },
    "accelerator": "GPU"
  },
  "nbformat": 4,
  "nbformat_minor": 5
}